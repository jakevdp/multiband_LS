{
 "metadata": {
  "name": "",
  "signature": "sha256:b66f9b4be29e2767af91a1d64dfcfeda22532ec375a35aa92efccd6e6f7471c6"
 },
 "nbformat": 3,
 "nbformat_minor": 0,
 "worksheets": [
  {
   "cells": [
    {
     "cell_type": "markdown",
     "metadata": {},
     "source": [
      "# Multi-band Lomb-Scargle"
     ]
    },
    {
     "cell_type": "markdown",
     "metadata": {},
     "source": [
      "## Standard Lomb-Scargle Algorithm"
     ]
    },
    {
     "cell_type": "markdown",
     "metadata": {},
     "source": [
      "In standard Lomb-Scargle, we start with our data\n",
      "\n",
      "$$\n",
      "D = \\{t_i,y_i,\\sigma_i\\}_{i=1}^N\n",
      "$$\n",
      "\n",
      "We assume here that the true values of $y$ are centered at zero (we'll relax this momentarily)"
     ]
    },
    {
     "cell_type": "markdown",
     "metadata": {},
     "source": [
      "The model is a simple 1-term sinusoid given by\n",
      "\n",
      "$$\n",
      "M(t,\\omega~|~\\theta) = \\theta_0 \\sin(\\omega t) + \\theta_1\\cos(\\omega t)\n",
      "$$"
     ]
    },
    {
     "cell_type": "markdown",
     "metadata": {},
     "source": [
      "The likelihood for the dataset is\n",
      "\n",
      "$$\n",
      "L(\\{t,y,dy\\},\\omega~|~\\theta) = \\sum_i \\frac{1}{\\sqrt{2\\pi \\sigma_i^2}}\n",
      "\\exp\\left[\n",
      "\\frac{-(y_i - M(t_i,\\omega~|~\\theta)^2}{2\\sigma_i^2}\n",
      "\\right]\n",
      "$$\n",
      "\n",
      "Which leads to the chi-squared function (derived from the log-likelihood)\n",
      "\n",
      "$$\n",
      "\\chi^2(\\omega, \\theta) = \\sum_i\\frac{[y_i - M(t_i,\\omega~|~\\theta)]^2}{2\\sigma_i^2}\n",
      "$$"
     ]
    },
    {
     "cell_type": "markdown",
     "metadata": {},
     "source": [
      "If we re-express the model by defining\n",
      "\n",
      "$$\n",
      "X_\\omega = \\left[\n",
      "\\begin{array}{ll}\n",
      "\\sin(\\omega t_1) & \\cos(\\omega t_1)\\\\\n",
      "\\sin(\\omega t_2) & \\cos(\\omega t_2)\\\\\n",
      "\\vdots & \\vdots \\\\\n",
      "\\sin(\\omega t_N) & \\cos(\\omega t_N)\\\\\n",
      "\\end{array}\n",
      "\\right],~~~~\n",
      "y = \\left[\n",
      "\\begin{array}{l}\n",
      "y_1 \\\\\n",
      "y_2\\\\\n",
      "\\vdots \\\\\n",
      "y_N\\\\\n",
      "\\end{array}\n",
      "\\right]\n",
      "$$"
     ]
    },
    {
     "cell_type": "markdown",
     "metadata": {},
     "source": [
      "And create the error matrix\n",
      "\n",
      "$$\n",
      "\\Sigma_y = \\left[\n",
      "\\begin{array}{lllll}\n",
      "\\sigma_1^2 & 0 & 0 & \\cdots & 0\\\\\n",
      "0 & \\sigma_2^2 & 0 & \\cdots & 0\\\\\n",
      "0 & 0 & \\sigma_3^2 & \\cdots & 0\\\\\n",
      "\\vdots & \\vdots & \\vdots & \\ddots & \\vdots\\\\\n",
      "0 & 0 & 0 & \\cdots & \\sigma_N^2\n",
      "\\end{array}\n",
      "\\right]\n",
      "$$"
     ]
    },
    {
     "cell_type": "markdown",
     "metadata": {},
     "source": [
      "then our model is given by\n",
      "\n",
      "$$\n",
      "M(\\omega, \\theta) = X_\\omega\\theta\n",
      "$$"
     ]
    },
    {
     "cell_type": "markdown",
     "metadata": {},
     "source": [
      "and our $\\chi^2$ can be written\n",
      "\n",
      "$$\n",
      "\\chi^2(\\omega, \\theta) = (y - X_\\omega\\theta)^T\\Sigma_y^{-1}(y - X_\\omega\\theta)\n",
      "$$"
     ]
    },
    {
     "cell_type": "markdown",
     "metadata": {},
     "source": [
      "Minimizing this cost funciton with respect to $\\theta$ gives the maximum likelihood parameters:\n",
      "\n",
      "$$\n",
      "\\hat{\\theta} = (X_\\omega^T\\Sigma_y^{-1}X_\\omega)^{-1}X_\\omega^T\\Sigma_y^{-1}y\n",
      "$$"
     ]
    },
    {
     "cell_type": "markdown",
     "metadata": {},
     "source": [
      "We can simplify this a bit by defining\n",
      "\n",
      "$$\n",
      "X_{\\omega,\\ast} = \\Sigma_y^{-1/2}X_\\omega \\\\\n",
      "y_\\ast = \\Sigma_y^{-1/2}y\n",
      "$$\n",
      "\n",
      "And the above becomes\n",
      "\n",
      "$$\n",
      "\\hat{\\theta} = (X_{\\omega,\\ast}^TX_{\\omega,\\ast})^{-1}X_{\\omega,\\ast}^Ty_\\ast\n",
      "$$"
     ]
    },
    {
     "cell_type": "markdown",
     "metadata": {},
     "source": [
      "Now the $\\chi^2$ of the model fit is given by\n",
      "\n",
      "$$\n",
      "\\chi^2(\\omega,\\hat{\\theta}) = \\left[\n",
      "y_\\ast^Ty_\\ast\n",
      "- y_\\ast^TX_{\\omega,\\ast} (X_{\\omega,\\ast}^TX_{\\omega,\\ast})^{-1}X_{\\omega,\\ast}^Ty_\\ast\n",
      "\\right]\n",
      "$$"
     ]
    },
    {
     "cell_type": "markdown",
     "metadata": {},
     "source": [
      "The reference $\\chi^2$ is\n",
      "\n",
      "$$\n",
      "\\chi_0^2 = \\bar{y}_\\ast^T\\bar{y}_\\ast\n",
      "$$\n",
      "\n",
      "So the power $P_{LS} = 1 - \\chi^2/\\chi_0^2$ is given by\n",
      "\n",
      "$$\n",
      "P_{LS}(\\omega) = \\frac{y_\\ast^TX_{\\omega,\\ast} (X_{\\omega,\\ast}^TX_{\\omega,\\ast})^{-1}X_{\\omega,\\ast}^T\\bar{y}_\\ast}{\\bar{y}_\\ast^T\\bar{y}_\\ast}\n",
      "$$"
     ]
    },
    {
     "cell_type": "markdown",
     "metadata": {},
     "source": [
      "### Generalized Lomb-Scargle\n",
      "\n",
      "The *generalized lomb-scargle* fits for the mean of $y$ as part of the model, rather than as a separete step.\n",
      "\n",
      "So what changes is that the $X_\\omega$ becomes:\n",
      "\n",
      "$$\n",
      "X_\\omega = \\left[\n",
      "\\begin{array}{lll}\n",
      "1 & \\sin(\\omega t_1) & \\cos(\\omega t_1)\\\\\n",
      "1 & \\sin(\\omega t_2) & \\cos(\\omega t_2)\\\\\n",
      "\\vdots & \\vdots & \\vdots \\\\\n",
      "1 & \\sin(\\omega t_N) & \\cos(\\omega t_N)\\\\\n",
      "\\end{array}\n",
      "\\right]\n",
      "$$\n",
      "\n",
      "With this, we can relax the requirement that $y$ is centered: it will be centered as part of the model. Everything else carries through, and we have \n",
      "\n",
      "$$\n",
      "P_{LS}(\\omega) = \\frac{y_\\ast^TX_{\\omega,\\ast} (X_{\\omega,\\ast}^TX_{\\omega,\\ast})^{-1}X_{\\omega,\\ast}^T\\bar{y}_\\ast}{\\bar{y}_\\ast^T\\bar{y}_\\ast}\n",
      "$$\n",
      "\n",
      "Where the quantities $y_\\ast$ and $X_{\\omega,\\ast}$ are the noise-corrected matrices as used above."
     ]
    },
    {
     "cell_type": "markdown",
     "metadata": {},
     "source": [
      "### Best-fit Parameters\n",
      "\n",
      "Note that for either of these models, the best-fit parameters are given by\n",
      "\n",
      "$$\n",
      "\\hat{\\theta} = (X_{\\omega,\\ast}^T X_{\\omega,\\ast})^{-1}X_{\\omega, \\ast}^T y_\\ast\n",
      "$$\n",
      "\n",
      "and that these best-fit values consist of a step within the computation of $P_{LS}$."
     ]
    },
    {
     "cell_type": "markdown",
     "metadata": {},
     "source": [
      "## Generalizing to Multiple Bands"
     ]
    },
    {
     "cell_type": "markdown",
     "metadata": {},
     "source": [
      "For multiple bands, we'll assume that there exists some fundamental model\n",
      "\n",
      "$$\n",
      "\\theta_{0} = \\{\\omega, y_0, A_0, B_0\\}\n",
      "$$\n",
      "\n",
      "which defines an underlying oscillation\n",
      "\n",
      "$$\n",
      "M_0(t~|~\\theta_0) = y_0 + A_0\\sin(\\omega t) + B_0\\cos(\\omega_0 t)\n",
      "$$\n",
      "\n",
      "We'll assume that each band indexed by $b \\in \\{1, 2, 3...\\}$ has a periodic offset function $Q_b$ parametrized by some $\\theta_b$, such that the model for that band is\n",
      "\n",
      "$$\n",
      "M_b(t~|~\\theta_0,\\omega_0) = M_0(t~|~\\theta_0) + Q_b(t~|~\\omega, \\theta_b)\n",
      "$$\n",
      "\n",
      "Where, in general, $Q_b$ can be any periodic function."
     ]
    },
    {
     "cell_type": "markdown",
     "metadata": {},
     "source": [
      "This will give us a single global underlying model $\\theta_0$, plus a $\\theta_f^\\ast$ for each of the have $N_f$ filters.\n",
      "\n",
      "But this problem is over-specified: one set of parameters here is redundant; note that we can easily reparametrize the model for each filter as\n",
      "\n",
      "$$\n",
      "\\theta_f = \\{y_f, A_f, B_f\\}\n",
      "$$\n",
      "\n",
      "where we've defined\n",
      "\n",
      "$$\n",
      "y_f = y_f^\\ast + y_0\\\\\n",
      "A_f = A_f^\\ast + A_0\\\\\n",
      "B_f = B_f^\\ast + B_0\n",
      "$$\n",
      "\n",
      "and we've thus eliminated the ability to solve explicitly for $\\{y_0, A_0, B_0\\}$."
     ]
    },
    {
     "cell_type": "markdown",
     "metadata": {},
     "source": [
      "### Wave hands a bit\n",
      "\n",
      "The result is that we can peform a very efficient lomb-scargle algorithm for **each band independently**, and then manipulate the results into a single global power $P$ which takes into account all the bands!"
     ]
    },
    {
     "cell_type": "markdown",
     "metadata": {},
     "source": [
      "### What about regularization?"
     ]
    },
    {
     "cell_type": "markdown",
     "metadata": {},
     "source": [
      "Say we go back to our $\\chi^2$ expression:\n",
      "\n",
      "$$\n",
      "\\chi^2(\\omega, \\theta) = (y - X_\\omega\\theta)^T\\Sigma_y^{-1}(y - X_\\omega\\theta)\n",
      "$$"
     ]
    },
    {
     "cell_type": "markdown",
     "metadata": {},
     "source": [
      "We using a Tikhonov regularization, we can penalize the $\\theta$ values:\n",
      "\n",
      "$$\n",
      "\\chi^2(\\omega, \\theta) = (y - X_\\omega\\theta)^T\\Sigma_y^{-1}(y - X_\\omega\\theta) + \\theta^T \\Gamma^T\\Gamma \\theta\n",
      "$$\n",
      "\n",
      "(Note that while this form is often assumed within a frequentist context, it can be derived within a Bayesian context where the priors on $\\theta$ are Gaussian, centered at zero, with a covariance matrix $\\Sigma_\\theta = [\\Gamma^T\\Gamma]^{-1}$)"
     ]
    },
    {
     "cell_type": "markdown",
     "metadata": {},
     "source": [
      "Minimizing this with respect to theta gives:\n",
      "\n",
      "\n",
      "$$\n",
      "X_\\omega^T\\Sigma_y^{-1}(X_\\omega\\theta - y) + \\Gamma^T\\Gamma\\theta = 0\n",
      "$$"
     ]
    },
    {
     "cell_type": "markdown",
     "metadata": {},
     "source": [
      "Or\n",
      "\n",
      "$$\n",
      "\\hat{\\theta} = \\left(X_\\omega^T\\Sigma_y^{-1}X_\\omega + \\Gamma^T\\Gamma\\right)^{-1}\\left(X_\\omega^T\\Sigma_y^{-1}y\\right)\n",
      "$$"
     ]
    },
    {
     "cell_type": "markdown",
     "metadata": {},
     "source": [
      "Plugging this in to the expression for $\\chi^2$, we get the following result:\n",
      "\n",
      "$$\n",
      "\\chi^2 = y^Ty - y^TX\\left(X^TX + \\Gamma^T\\Gamma\\right)^{-1}X^Ty\n",
      "$$\n",
      "\n",
      "\n",
      "(TODO: fill in the missing sigma in the above expression)\n",
      "\n",
      "That is, it's the same expression as above with the regularization term added to the pseudoinverse!!"
     ]
    },
    {
     "cell_type": "markdown",
     "metadata": {},
     "source": [
      "So the regularized lomb-scargle power is given by:\n",
      "\n",
      "\n",
      "$$\n",
      "P_{LS} = \\frac{y^TX\\left(X^TX + \\Gamma^T\\Gamma\\right)^{-1}X^Ty}{y^Ty}\n",
      "$$\n"
     ]
    },
    {
     "cell_type": "code",
     "collapsed": false,
     "input": [],
     "language": "python",
     "metadata": {},
     "outputs": []
    }
   ],
   "metadata": {}
  }
 ]
}