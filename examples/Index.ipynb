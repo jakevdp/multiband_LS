{
 "metadata": {
  "name": "",
  "signature": "sha256:7114870634019f222198cbb8119eba797d40ab6773e67089dc8245093e52b70c"
 },
 "nbformat": 3,
 "nbformat_minor": 0,
 "worksheets": [
  {
   "cells": [
    {
     "cell_type": "markdown",
     "metadata": {},
     "source": [
      "# Index of Periodogram Examples\n",
      "\n",
      "- [Example of Standard Lomb-Scargle](SingleBandExample.ipynb): this example shows how to compute periodicity on from the LINEAR survey, using a standard Lomb-Scargle periodogram and multi-term generalizations.\n",
      "- [Example of Multi-band Lomb-Scargle](MultibandExample.ipynb): this example shows how to compute periodicity on multiband data from the SDSS survey, using several variants of the multiband approach from VanderPlas & Ivezic 2015.\n",
      "- [Comparing Implementations](CompareImplementations.ipynb): comparing the implementations in ``multiband_LS`` with those in ``astroML``."
     ]
    },
    {
     "cell_type": "markdown",
     "metadata": {},
     "source": [
      "   "
     ]
    }
   ],
   "metadata": {}
  }
 ]
}