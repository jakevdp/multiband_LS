{
 "metadata": {
  "name": "",
  "signature": "sha256:602fee0a2842d1d585733252a2bd1113f170870cc74329e6e757996fcfbdd421"
 },
 "nbformat": 3,
 "nbformat_minor": 0,
 "worksheets": [
  {
   "cells": [
    {
     "cell_type": "markdown",
     "metadata": {},
     "source": [
      "# Deriving Generalized Lomb-Scargle"
     ]
    },
    {
     "cell_type": "markdown",
     "metadata": {},
     "source": [
      "## Standard Lomb-Scargle"
     ]
    },
    {
     "cell_type": "markdown",
     "metadata": {},
     "source": [
      "In standard Lomb-Scargle, we start with values\n",
      "\n",
      "$$\n",
      "\\{t,y,dy\\}\n",
      "$$"
     ]
    },
    {
     "cell_type": "markdown",
     "metadata": {},
     "source": [
      "We then compute the mean of the $y$ values using the maximum likelihood:\n",
      "\n",
      "$$\n",
      "\\mu_y = \\frac{\\sum_i y_i/dy_i^2}{\\sum_i 1/dy_i^2}\n",
      "$$"
     ]
    },
    {
     "cell_type": "markdown",
     "metadata": {},
     "source": [
      "Then we compute the centered $y$:\n",
      "\n",
      "$$\n",
      "\\bar{y} \\equiv y - \\mu_y\n",
      "$$"
     ]
    },
    {
     "cell_type": "markdown",
     "metadata": {},
     "source": [
      "The model is a simple 1-term sinusoid given by\n",
      "\n",
      "$$\n",
      "M(t,\\omega~|~\\theta) = \\theta_0 \\sin(\\omega t) + \\theta_1\\cos(\\omega t)\n",
      "$$"
     ]
    },
    {
     "cell_type": "markdown",
     "metadata": {},
     "source": [
      "The likelihood for the dataset is\n",
      "\n",
      "$$\n",
      "L(\\{t,y,dy\\},\\omega~|~\\theta) = \\sum_i \\frac{1}{\\sqrt{2\\pi dy_i^2}}\n",
      "\\exp\\left[\n",
      "\\frac{-(y_i - M(t_i,\\omega~|~\\theta)^2}{2dy_i^2}\n",
      "\\right]\n",
      "$$\n",
      "\n",
      "Which leads to the chi-squared function (derived from the log-likelihood)\n",
      "\n",
      "$$\n",
      "\\chi^2(\\omega, \\theta) = \\sum_i\\frac{(\\bar{y}_i - M(t_i,\\omega~|~\\theta)^2}{2dy_i^2}\n",
      "$$"
     ]
    },
    {
     "cell_type": "markdown",
     "metadata": {},
     "source": [
      "If we re-express the model by defining\n",
      "\n",
      "$$\n",
      "X_\\omega = \\left[\n",
      "\\begin{array}{ll}\n",
      "\\sin(\\omega t_1) & \\cos(\\omega t_1)\\\\\n",
      "\\sin(\\omega t_2) & \\cos(\\omega t_2)\\\\\n",
      "\\vdots & \\vdots \\\\\n",
      "\\sin(\\omega t_N) & \\cos(\\omega t_N)\\\\\n",
      "\\end{array}\n",
      "\\right],~~~~\n",
      "y = \\left[\n",
      "\\begin{array}{l}\n",
      "y_1 \\\\\n",
      "y_2\\\\\n",
      "\\vdots \\\\\n",
      "y_N\\\\\n",
      "\\end{array}\n",
      "\\right]\n",
      "$$"
     ]
    },
    {
     "cell_type": "markdown",
     "metadata": {},
     "source": [
      "And create the error matrix\n",
      "\n",
      "$$\n",
      "\\Sigma_y = \\left[\n",
      "\\begin{array}{lllll}\n",
      "dy_1^2 & 0 & 0 & \\cdots & 0\\\\\n",
      "0 & dy_2^2 & 0 & \\cdots & 0\\\\\n",
      "0 & 0 & dy_3^2 & \\cdots & 0\\\\\n",
      "\\vdots & \\vdots & \\vdots & \\ddots & \\vdots\\\\\n",
      "0 & 0 & 0 & \\cdots & dy_N^2\n",
      "\\end{array}\n",
      "\\right]\n",
      "$$"
     ]
    },
    {
     "cell_type": "markdown",
     "metadata": {},
     "source": [
      "then our model is given by\n",
      "\n",
      "$$\n",
      "M(\\omega, \\theta) = X_\\omega\\theta\n",
      "$$"
     ]
    },
    {
     "cell_type": "markdown",
     "metadata": {},
     "source": [
      "and our $\\chi^2$ can be written\n",
      "\n",
      "$$\n",
      "\\chi^2(\\omega, \\theta) = (\\bar{y} - X_\\omega\\theta)^T\\Sigma_y^{-1}(\\bar{y} - X_\\omega\\theta)\n",
      "$$"
     ]
    },
    {
     "cell_type": "markdown",
     "metadata": {},
     "source": [
      "Minimizing this cost funciton with respect to $\\theta$ gives the maximum likelihood parameters:\n",
      "\n",
      "$$\n",
      "\\hat{\\theta} = (X_\\omega^T\\Sigma_y^{-1}X_\\omega)^{-1}X_\\omega^T\\Sigma_y^{-1}\\bar{y}\n",
      "$$"
     ]
    },
    {
     "cell_type": "markdown",
     "metadata": {},
     "source": [
      "We can simplify this a bit by defining\n",
      "\n",
      "$$\n",
      "X_{\\omega,\\ast} = \\Sigma_y^{-1/2}X_\\omega \\\\\n",
      "\\bar{y}_\\ast = \\Sigma_y^{-1/2}\\bar{y}\n",
      "$$\n",
      "\n",
      "And the above becomes\n",
      "\n",
      "$$\n",
      "\\hat{\\theta} = (X_{\\omega,\\ast}^TX_{\\omega,\\ast})^{-1}X_{\\omega,\\ast}^T\\bar{y}_\\ast\n",
      "$$"
     ]
    },
    {
     "cell_type": "markdown",
     "metadata": {},
     "source": [
      "Now the $\\chi^2$ of the model fit is given by\n",
      "\n",
      "$$\n",
      "\\chi^2(\\omega,\\hat{\\theta}) = \\left[\n",
      "\\bar{y}_\\ast^T\\bar{y}_\\ast\n",
      "- \\bar{y}_\\ast^TX_{\\omega,\\ast} (X_{\\omega,\\ast}^TX_{\\omega,\\ast})^{-1}X_{\\omega,\\ast}^T\\bar{y}_\\ast\n",
      "\\right]\n",
      "$$"
     ]
    },
    {
     "cell_type": "markdown",
     "metadata": {},
     "source": [
      "The reference $\\chi^2$ is\n",
      "\n",
      "$$\n",
      "\\chi_0^2 = \\bar{y}_\\ast^T\\bar{y}_\\ast\n",
      "$$\n",
      "\n",
      "So the power $P_{LS} = 1 - \\chi^2/\\chi_0^2$ is given by\n",
      "\n",
      "$$\n",
      "P_{LS}(\\omega) = \\frac{\\bar{y}_\\ast^TX_{\\omega,\\ast} (X_{\\omega,\\ast}^TX_{\\omega,\\ast})^{-1}X_{\\omega,\\ast}^T\\bar{y}_\\ast}{\\bar{y}_\\ast^T\\bar{y}_\\ast}\n",
      "$$"
     ]
    },
    {
     "cell_type": "markdown",
     "metadata": {},
     "source": [
      "## Generalized Lomb-Scargle\n",
      "\n",
      "The *generalized lomb-scargle* fits for the mean of $y$ as part of the model, rather than as a separete step.\n",
      "\n",
      "So what changes is that the $X_\\omega$ becomes:\n",
      "\n",
      "$$\n",
      "X_\\omega = \\left[\n",
      "\\begin{array}{lll}\n",
      "1 & \\sin(\\omega t_1) & \\cos(\\omega t_1)\\\\\n",
      "1 & \\sin(\\omega t_2) & \\cos(\\omega t_2)\\\\\n",
      "\\vdots & \\vdots & \\vdots \\\\\n",
      "1 & \\sin(\\omega t_N) & \\cos(\\omega t_N)\\\\\n",
      "\\end{array}\n",
      "\\right]\n",
      "$$"
     ]
    },
    {
     "cell_type": "markdown",
     "metadata": {},
     "source": [
      "and $\\bar{y}$ becomes\n",
      "\n",
      "$$\n",
      "\\bar{y} = y - X_\\omega \\mathbf{1}_1 \\hat{\\theta}\n",
      "$$\n",
      "\n",
      "where the best-fit parameters $\\hat{\\theta}$ satisfy\n",
      "\n",
      "$$\n",
      "\\hat{\\theta} = (X_\\omega^T\\Sigma_y^{-1}X_\\omega)^{-1}X_\\omega^T\\Sigma_y^{-1} y\n",
      "$$"
     ]
    },
    {
     "cell_type": "markdown",
     "metadata": {},
     "source": [
      "and we have defined,\n",
      "\n",
      "$$\n",
      "\\mathbf{1}_1 = \\left[\n",
      "\\begin{array}{lll}\n",
      "1 & 0 & 0\\\\\n",
      "0 & 0 & 0\\\\\n",
      "0 & 0 & 0\n",
      "\\end{array}\n",
      "\\right]\n",
      "$$"
     ]
    },
    {
     "cell_type": "markdown",
     "metadata": {},
     "source": [
      "With this change, we write the maximum $\\chi^2$ as\n",
      "\n",
      "$$\n",
      "\\chi^2(\\omega) = (y - X_\\omega\\hat{\\theta})^T\\Sigma_y^{-1}(y - X_\\omega\\hat{\\theta})\n",
      "$$"
     ]
    },
    {
     "cell_type": "markdown",
     "metadata": {},
     "source": [
      "Let's re-express this in terms of $\\bar{y}$:\n",
      "\n",
      "$$\n",
      "\\chi^2(\\omega) = (\\bar{y} - X_\\omega\\tilde{\\mathbf{1}}_1\\hat{\\theta})^T\\Sigma_y^{-1}(y - X_\\omega\\tilde{\\mathbf{1}}_1\\hat{\\theta})\n",
      "$$"
     ]
    },
    {
     "cell_type": "markdown",
     "metadata": {},
     "source": [
      "Where we have defined\n",
      "\n",
      "$$\n",
      "\\tilde{\\mathbf{1}}_1 = I - \\mathbf{1}_1\n",
      "$$"
     ]
    },
    {
     "cell_type": "code",
     "collapsed": false,
     "input": [],
     "language": "python",
     "metadata": {},
     "outputs": []
    }
   ],
   "metadata": {}
  }
 ]
}