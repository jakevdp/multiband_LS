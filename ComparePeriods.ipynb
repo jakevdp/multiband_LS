{
 "metadata": {
  "name": "",
  "signature": "sha256:9cbae7e456a6da7749ce7f625b6726d5a05f320fd3626717791a544bd1fdfe3a"
 },
 "nbformat": 3,
 "nbformat_minor": 0,
 "worksheets": [
  {
   "cells": [
    {
     "cell_type": "markdown",
     "metadata": {},
     "source": [
      "# Comparing Periods\n",
      "\n",
      "Here I compare the periods I computed using a Lomb-Scargle approach to the periods reported in Sesar 2010"
     ]
    },
    {
     "cell_type": "code",
     "collapsed": false,
     "input": [
      "%matplotlib inline\n",
      "import matplotlib.pyplot as plt\n",
      "import numpy as np\n",
      "\n",
      "import seaborn as sns\n",
      "sns.set()"
     ],
     "language": "python",
     "metadata": {},
     "outputs": [],
     "prompt_number": 1
    },
    {
     "cell_type": "markdown",
     "metadata": {},
     "source": [
      "Get the periods from table 2 of Brani's paper:"
     ]
    },
    {
     "cell_type": "code",
     "collapsed": false,
     "input": [
      "from multiband_LS.data import fetch_lc_params\n",
      "data = fetch_lc_params()\n",
      "i_sort = np.argsort(data['id'])\n",
      "data = data[i_sort]"
     ],
     "language": "python",
     "metadata": {},
     "outputs": [],
     "prompt_number": 2
    },
    {
     "cell_type": "markdown",
     "metadata": {},
     "source": [
      "# Classic Lomb-Scargle\n",
      "\n",
      "Compute periods using straightforward single-term lomb-scargle approach:"
     ]
    },
    {
     "cell_type": "code",
     "collapsed": false,
     "input": [
      "# Compute the best-fit periods for each band\n",
      "# And save the results\n",
      "\n",
      "import os\n",
      "from multiband_LS.data import fetch_light_curves\n",
      "from multiband_LS.period_search import period_search\n",
      "\n",
      "cache_file = 'results.npy'\n",
      "\n",
      "if not os.path.exists(cache_file):\n",
      "    rrlyrae = fetch_light_curves()\n",
      "\n",
      "    L = []\n",
      "\n",
      "    for i, lcid in enumerate(rrlyrae.ids):\n",
      "        print(i, lcid)\n",
      "        t, y, dy = rrlyrae.get_lightcurve(lcid)\n",
      "        periods = period_search(t, y, dy)\n",
      "        L.append(np.concatenate([[lcid], periods]))\n",
      "\n",
      "    results = np.array(L)\n",
      "    np.save(cache_file, results)\n",
      "    \n",
      "derived_periods = np.load(cache_file)"
     ],
     "language": "python",
     "metadata": {},
     "outputs": [],
     "prompt_number": 3
    },
    {
     "cell_type": "code",
     "collapsed": false,
     "input": [
      "# sort the results by ID\n",
      "i_sort = np.argsort(derived_periods[:, 0])\n",
      "derived_periods = derived_periods[i_sort]"
     ],
     "language": "python",
     "metadata": {},
     "outputs": [],
     "prompt_number": 4
    },
    {
     "cell_type": "markdown",
     "metadata": {},
     "source": [
      "Double-check that the IDs all agree:"
     ]
    },
    {
     "cell_type": "code",
     "collapsed": false,
     "input": [
      "np.all(derived_periods[:, 0] == data['id'])"
     ],
     "language": "python",
     "metadata": {},
     "outputs": [
      {
       "metadata": {},
       "output_type": "pyout",
       "prompt_number": 5,
       "text": [
        "True"
       ]
      }
     ],
     "prompt_number": 5
    },
    {
     "cell_type": "code",
     "collapsed": false,
     "input": [
      "matches = (abs(derived_periods[:, 1:].T - data['P']) < 0.01)\n",
      "\n",
      "for i, filt in enumerate('ugriz'):\n",
      "    print('{0}/{1} {2}-band periods match'.format(np.sum(matches[i]), matches[i].size, filt))\n",
      "print('-----------------------------')\n",
      "print('{0}/{1} total match'.format(np.sum(matches), matches.size))"
     ],
     "language": "python",
     "metadata": {},
     "outputs": [
      {
       "output_type": "stream",
       "stream": "stdout",
       "text": [
        "403/483 u-band periods match\n",
        "404/483 g-band periods match\n",
        "395/483 r-band periods match\n",
        "390/483 i-band periods match\n",
        "385/483 z-band periods match\n",
        "-----------------------------\n",
        "1977/2415 total match\n"
       ]
      }
     ],
     "prompt_number": 6
    },
    {
     "cell_type": "markdown",
     "metadata": {},
     "source": [
      "Now plot the results against each other:"
     ]
    },
    {
     "cell_type": "code",
     "collapsed": false,
     "input": [
      "colors = ['purple', 'green', 'red', 'blue', 'black']\n",
      "filters = 'ugriz'\n",
      "\n",
      "for i, (filt, color) in enumerate(zip(filters, colors)):\n",
      "    plt.plot(data['P'], derived_periods[:, i + 1], '^',\n",
      "             c=color, label=filt, alpha=0.3)\n",
      "    \n",
      "P = np.linspace(0.2, 1.0)\n",
      "plt.plot(P, P, '-', c='gray', alpha=0.3)\n",
      "plt.xlim(0.2, 1.0)\n",
      "plt.ylim(0.2, 1.0)\n",
      "\n",
      "plt.legend()\n",
      "plt.xlabel(\"Sesar 2010 Period\")\n",
      "plt.ylabel(\"Current Period\");"
     ],
     "language": "python",
     "metadata": {},
     "outputs": [
      {
       "metadata": {},
       "output_type": "display_data",
       "png": "[encoded data removed]",
       "text": [
        "<matplotlib.figure.Figure at 0x103713cd0>"
       ]
      }
     ],
     "prompt_number": 7
    },
    {
     "cell_type": "markdown",
     "metadata": {},
     "source": [
      "## Multiterm fits"
     ]
    },
    {
     "cell_type": "markdown",
     "metadata": {},
     "source": [
      "Now we'll do the same thing, but using multi-term fits"
     ]
    },
    {
     "cell_type": "code",
     "collapsed": false,
     "input": [
      "# Warning: This one takes a long time (factor of ~7 longer than above)\n",
      "\n",
      "from multiband_LS.lomb_scargle import lomb_scargle\n",
      "\n",
      "cache_file = 'results_multi.npy'\n",
      "\n",
      "if not os.path.exists(cache_file):\n",
      "    rrlyrae = fetch_light_curves()\n",
      "\n",
      "    L = []\n",
      "\n",
      "    for i, lcid in enumerate(rrlyrae.ids):\n",
      "        print(i, lcid)\n",
      "        t, y, dy = rrlyrae.get_lightcurve(lcid)\n",
      "        periods = period_search(t, y, dy, LS_func=lomb_scargle,\n",
      "                                LS_kwargs=dict(compute_offset=True, Nterms=3))\n",
      "        L.append(np.concatenate([[lcid], periods]))\n",
      "\n",
      "    results = np.array(L)\n",
      "    np.save(cache_file, results)\n",
      "    \n",
      "derived_periods = np.load(cache_file)"
     ],
     "language": "python",
     "metadata": {},
     "outputs": []
    }
   ],
   "metadata": {}
  }
 ]
}